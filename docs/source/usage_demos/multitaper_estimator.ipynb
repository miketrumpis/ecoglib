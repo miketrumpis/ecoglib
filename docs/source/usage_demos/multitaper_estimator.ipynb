{
 "cells": [
  {
   "cell_type": "markdown",
   "metadata": {},
   "source": [
    "# Thomson's \"Multitaper\" Estimator\n",
    "\n",
    "This notebook is a demo & test of new multitaper estimator code."
   ]
  },
  {
   "cell_type": "code",
   "execution_count": null,
   "metadata": {},
   "outputs": [],
   "source": [
    "%matplotlib inline"
   ]
  },
  {
   "cell_type": "code",
   "execution_count": null,
   "metadata": {},
   "outputs": [],
   "source": [
    "# basic stuff\n",
    "import numpy as np\n",
    "from scipy.signal import periodogram, detrend\n",
    "import scipy.stats.distributions as dists\n",
    "\n",
    "# Ecog stuff\n",
    "import ecoglib.estimation.multitaper as mt\n",
    "from ecogdata.devices.data_util import load_experiment_auto\n",
    "from ecogdata.trigger_fun import extract_epochs\n",
    "from ecoglib.vis.tile_images import tile_traces_1ax\n",
    "from ecoglib.vis.ani import animate_frames\n",
    "from ecoglib.vis.plot_util import filled_interval\n",
    "\n",
    "# Other plotting stuff\n",
    "import matplotlib.pyplot as plt\n",
    "from matplotlib import rcParams\n",
    "import seaborn as sns\n",
    "sns.set_context('notebook')\n",
    "rcParams['figure.figsize'] = 8, 6"
   ]
  },
  {
   "cell_type": "markdown",
   "metadata": {},
   "source": [
    "## Discrete prolate spheroidal sequences and PSD basics\n",
    "\n",
    "To begin, create a simple test sequence that is a mixture of cosines."
   ]
  },
  {
   "cell_type": "code",
   "execution_count": null,
   "metadata": {},
   "outputs": [],
   "source": [
    "# amplitudes in (2, 5)\n",
    "amps = np.random.rand(5) * 3 + 2\n",
    "# phases in (0, 2pi)\n",
    "phases = np.random.rand(5) * 2 * np.pi\n",
    "# frequencies in (0.1, 0.4)\n",
    "mix_freqs = np.random.rand(5) * 0.3 + 0.1\n",
    "# mixture of cosines\n",
    "n = np.arange(1024)\n",
    "x_parts = amps[:, np.newaxis] * np.cos(2 * np.pi * n * mix_freqs[:, np.newaxis] + phases[:, np.newaxis])\n",
    "x = np.sum(x_parts, axis=0)\n",
    "plt.figure()\n",
    "plt.plot(n, x_parts.T + np.arange(2, 7) * 10, lw=0.25)\n",
    "plt.plot(n, x, lw=0.5, color='k')\n",
    "plt.yticks([])\n",
    "sns.despine(left=True)"
   ]
  },
  {
   "cell_type": "raw",
   "metadata": {
    "raw_mimetype": "text/restructuredtext"
   },
   "source": [
    "Use the :py:class:`MultitaperEstimator <ecoglib.estimation.multitaper.MultiTaperEstimator>` class from :py:mod:`ecogdata.estimation.multitaper` to analyze the spectrum."
   ]
  },
  {
   "cell_type": "markdown",
   "metadata": {},
   "source": [
    "The NW parameter and the resulting eigenvalues relate to the \"spectral concentration\" property of DPSS. NW is a \"time-bandwidth\" product. The main lobe of the the DPSS spectrum is about ±NW DFT frequency bins wide. Also, the ratio of energy inside the lobe versus total signal energy is given by the eigenvalue.\n",
    "\n",
    "Since the DFT bin size is $1/N$, the simple (normalized) bandwidth identity is $W_{(n)}=NW(1/N)$. Note that\n",
    "\n",
    "1. This is *half* of the full estimator bandwidth\n",
    "1. To convert to frequency in Hz, multiply by the sampling rate: $W_{(f)}=NW(f_{s}/N)$"
   ]
  },
  {
   "cell_type": "code",
   "execution_count": null,
   "metadata": {},
   "outputs": [],
   "source": [
    "NW = 3.5\n",
    "mte = mt.MultitaperEstimator(len(x), NW, fs=1, low_bias=0.9)\n",
    "mte.eigs"
   ]
  },
  {
   "cell_type": "code",
   "execution_count": null,
   "metadata": {},
   "outputs": [],
   "source": [
    "f, axs = plt.subplots(3, 1, figsize=(6, 8))\n",
    "lns = axs[0].plot(n, mte.dpss.T)\n",
    "axs[0].set_xlabel('samples')\n",
    "axs[0].legend(lns[:1], ('DPSS',))\n",
    "\n",
    "freqs, spectra = periodogram(mte.dpss, fs=1.0, detrend=False, window='boxcar')\n",
    "spectra = spectra[..., :len(freqs)]\n",
    "band_limit = float(mte.NW) / len(x)\n",
    "axs[1].semilogy(freqs, spectra.T)\n",
    "axs[1].set_xlabel('Normalized frequency')\n",
    "axs[2].semilogy(freqs, spectra.T, marker='.', ls='-')\n",
    "axs[2].axvline(band_limit, color='k', linestyle='dashed')\n",
    "axs[2].set_xlim(0, 15.0 / len(x))\n",
    "axs[2].set_ylim(1e-8, 2)\n",
    "axs[2].annotate('Concentration band-limit (NW / N)', (band_limit, 0.01), (band_limit * 1.5, 0.01),\n",
    "                arrowprops=dict(width=1))\n",
    "_ = axs[2].set_xlabel('Normalized frequency')\n",
    "f.tight_layout(pad=0)"
   ]
  },
  {
   "cell_type": "markdown",
   "metadata": {},
   "source": [
    "The DPSS are progressively *less* concentrated as the order increases, as expected from the decreasing eigenvalues. Interestingly, these spectra are computed via periodogram suffer from the broad-band bias (spectral leakage out of the main lobe) that tapering is supposed to address. The next plot shows the reduction of broad-band bias using a single taper (Hamming window) versus the square wave taper.\n",
    "\n",
    "The advantage of multitaper is to use *multiple* orthogonal tapers to create uncorrelated estimates that can be averaged to reduce variance."
   ]
  },
  {
   "cell_type": "code",
   "execution_count": null,
   "metadata": {},
   "outputs": [],
   "source": [
    "plt.figure()\n",
    "freqs, spectra = periodogram(mte.dpss, fs=1.0, detrend=False, window='boxcar')\n",
    "lns_a = plt.semilogy(freqs, spectra.T, lw=1, color='k')\n",
    "freqs, spectra = periodogram(mte.dpss, fs=1.0, detrend=False, window='hamming')\n",
    "lns_b = plt.semilogy(freqs, spectra.T, lw=1, color='r')\n",
    "plt.legend(lns_a[:1] + lns_b[:1], ('Flat taper', 'Hamming taper'))\n",
    "plt.title('Hamming window: broad-band bias reduction')"
   ]
  },
  {
   "cell_type": "markdown",
   "metadata": {},
   "source": [
    "So the multitaper estimate is essentially an average of $K$ individual \"direct spectral estimates\" of the series $x(t)$. Let $v_{k}(t)$ be the k'th DPSS taper (technically also uniquely parameterized by $(N, NW)$). A direct estimate is\n",
    "\n",
    "\\begin{equation}\n",
    "\\hat{S}_{k}(\\omega)=\\left|y_{k}(\\omega)\\right|^{2}\n",
    "\\tag{1}\n",
    "\\end{equation}\n",
    "\n",
    "with $y_{k}(\\omega)$ being the DFT of the signal-taper product. \n",
    "\n",
    "\\begin{equation}\n",
    "y_{k}(\\omega)=\\sum_{t=0}^{N-1} x(t)v_{k}(t)\\exp \\{-i\\omega t\\}\n",
    "\\tag{2}\n",
    "\\end{equation}\n",
    "\n",
    "It is in fact a tapered periodogram estimate, but all $\\hat{S}_{k}(\\omega)$ are (basically) uncorrelated. The normalization for a periodogram estimate is usually $1/N$, but this is not needed with the orthonormal taper.\n",
    "\n",
    "The final multitaper estimator is the average (or weighted average) of these functions\n",
    "\n",
    "\\begin{equation}\n",
    "\\hat{S}(\\omega)=\\frac{1}{K}\\sum_{k=0}^{K-1}\\hat{S}_{k}(\\omega)\n",
    "\\tag{3}\n",
    "\\end{equation}\n",
    "\n",
    "Multiplying by a factor of two is conventional to count power from the negative side of the spectrum (which is then discarded). "
   ]
  },
  {
   "cell_type": "code",
   "execution_count": null,
   "metadata": {},
   "outputs": [],
   "source": [
    "freqs, mt_psd = mte.compute_psd(x, adaptive_weights=True)\n",
    "freqs, pg_psd = periodogram(x, window='boxcar', detrend=False)\n",
    "freqs, ht_psd = periodogram(x, window='hamming', detrend=False)\n",
    "f, axs = plt.subplots(2, 1)\n",
    "axs[0].semilogy(freqs, np.c_[pg_psd, ht_psd, mt_psd])\n",
    "axs[0].legend(('P-gram (boxcar)', 'P-gram (hamming)', 'Multitaper'))\n",
    "axs[1].semilogy(freqs, np.c_[pg_psd, ht_psd, mt_psd])\n",
    "axs[1].set_xlim(mix_freqs[2] - band_limit * 4, mix_freqs[2] + band_limit * 4)"
   ]
  },
  {
   "cell_type": "markdown",
   "metadata": {},
   "source": [
    "The Hamming window improves the broad-band bias compared to a plain periodgram. The multitaper estimator--especially using adaptive weighting for summing low power estimates--has by far the lowest leakage bias. However this comes at the expense of bias within the ±W frequency window. With this test signal, the **true** power spectral density (the quantity we're trying to estimate) is a collection of delta functions at the mixed frequencies. Each type of taper (square, Hamming, MT) blurs that line to an extent: the full power of each component is spread across the estimator bandwidth. This implies that larger NW values would blur the line value across a larger window (more bias).\n",
    "\n",
    "The full variance is given by $E[(x-\\bar{x})^{2}]=\\int_{0}^{f_{s}} P_{x}(f)df$"
   ]
  },
  {
   "cell_type": "code",
   "execution_count": null,
   "metadata": {},
   "outputs": [],
   "source": [
    "print('Input variance', np.var(x))\n",
    "print('MT variance:', np.trapz(mt_psd, x=freqs))\n",
    "print('P-gram(BC) variance:', np.trapz(pg_psd, x=freqs))\n",
    "print('P-gram(H) variance:', np.trapz(ht_psd, x=freqs))"
   ]
  },
  {
   "cell_type": "markdown",
   "metadata": {},
   "source": [
    "## PSD for real data\n",
    "\n",
    "Grabbing a random $2^{14}$ point segement from a rat auditory cortex recording."
   ]
  },
  {
   "cell_type": "code",
   "execution_count": null,
   "metadata": {},
   "outputs": [],
   "source": [
    "data = load_experiment_auto('viventi/2017-11-28_acute', 'test_003', mapped=True)"
   ]
  },
  {
   "cell_type": "code",
   "execution_count": null,
   "metadata": {},
   "outputs": [],
   "source": [
    "n0 = int(100 * data.Fs)\n",
    "n_pts = 2 ** 14\n",
    "rando_data = detrend(data.data[:, n0:n0 + n_pts], axis=1)\n",
    "fig = tile_traces_1ax(rando_data, p=data.chan_map, twin=(0, 1e3 * n_pts / data.Fs), calib_unit='uV', linewidths=0.25)"
   ]
  },
  {
   "cell_type": "markdown",
   "metadata": {},
   "source": [
    "Despite the larger in-window bias, the multitaper PSD has much less estimator variance than either the boxcar or Hamming-window periodogram. Note the amount of deviation from the $1/f$ LFP + transistor noise spectrum in the different estimates."
   ]
  },
  {
   "cell_type": "code",
   "execution_count": null,
   "metadata": {},
   "outputs": [],
   "source": [
    "x = rando_data[data.chan_map.lookup(3, 0)]\n",
    "# Using the \"psd\" class method\n",
    "freqs, mt_psd_1 = mt.MultitaperEstimator.psd(x, NW=3.5, fs=data.Fs, adaptive_weights=True)\n",
    "freqs, mt_psd_2 = mt.MultitaperEstimator.psd(x, NW=7, fs=data.Fs, adaptive_weights=True)\n",
    "freqs, pg_psd = periodogram(x, window='boxcar', detrend=False, fs=data.Fs)\n",
    "freqs, ht_psd = periodogram(x, window='hamming', detrend=False, fs=data.Fs)\n",
    "f, axs = plt.subplots(1, 1)\n",
    "axs.loglog(freqs, np.c_[pg_psd, ht_psd, mt_psd_1, mt_psd_2], alpha=0.6)\n",
    "axs.set_ylim(bottom=1e-3)\n",
    "axs.set_xlim(left=0.5)\n",
    "axs.legend(('P-gram (boxcar)', 'P-gram (hamming)', 'Multitaper (NW=3.5)', 'Multitaper (NW=7)'))"
   ]
  },
  {
   "cell_type": "markdown",
   "metadata": {},
   "source": [
    "The multitaper variance relationship is closer than a simple tapered periodogram. The naked periodogram is essentially the same as the sample variance because of Parseval's theorem of the DFT--in short the sum of squares is the same under $x(t)$ and $X(\\omega_k)$."
   ]
  },
  {
   "cell_type": "code",
   "execution_count": null,
   "metadata": {},
   "outputs": [],
   "source": [
    "print('Input variance', np.var(x))\n",
    "print('MT(NW=3.5) variance:', np.trapz(mt_psd_1, x=freqs))\n",
    "print('MT(NW=7) variance:', np.trapz(mt_psd_2, x=freqs))\n",
    "print('P-gram(BC) variance:', np.trapz(pg_psd, x=freqs))\n",
    "print('P-gram(H) variance:', np.trapz(ht_psd, x=freqs))"
   ]
  },
  {
   "cell_type": "markdown",
   "metadata": {},
   "source": [
    "## PSD estimator variance & confidence intervals\n",
    "We can explicitly find the variance of the spectral estimator, and from that variance form confidence intervals. Confidence intervals can be estimated two ways.\n",
    "\n",
    "* intervals based on a $\\chi{}^{2}_{2K}$ distribution\n",
    "* intervals based on the Jackknife standard error estimate and Student's $t_{2K-1}$ distribution\n",
    "\n",
    "### $\\chi^{2}$ argument\n",
    "The $\\chi{}^{2}$ interval is derived from normality assumptions about the timeseries (serial independence, stationarity). Both these assumptions are particularly bad for LFP, btw. For periodograms in general, the estimator can be considered the sum of squares:\n",
    "\n",
    "\\begin{equation}\n",
    "\\hat{S}_{\\omega}=\\left(A_{\\omega}^{2}+B_{\\omega}^{2}\\right)\n",
    "\\tag{4}\n",
    "\\end{equation}\n",
    "\n",
    "and $A$ and $B$ are the cosine and sine components of the DFT of taper-signal product $v(t)x(t)$. \n",
    "\n",
    "If the series $x(t)$ is iid zero mean Gaussian with variance $\\sigma^{2}_{x}$, then $A$ and $B$ are both sums of Gaussians (thus also Gaussian). The expected value is $\\sum E\\{x(t)\\}\\cos\\omega t=0$ and variance is proportional to $\\sigma_{x}^{2}$ (in the case of eq 2 above, $Var(A_{\\omega})=\\sigma_{x}^{2}/2$). So the appropriately normalized sum of squares in eq 4 is distributed as $\\chi^{2}$ with 2 degrees of freedom (DOF)\n",
    "\n",
    "\\begin{equation}\n",
    "\\frac{A_{\\omega}^{2}+B_{\\omega}^{2}}{\\sigma_{x}^{2}/2}=\\frac{2\\hat{S}_{\\omega}}{\\sigma_{x}^{2}}\\sim \\chi^{2}_{2}\n",
    "\\end{equation}\n",
    "\n",
    "Asymptotically (as $N\\rightarrow \\infty$) $\\sigma_{x}^{2}$ is replaced by the *true* power spectral density (the quantity we're trying to estimate) for this fundamental result\n",
    "\n",
    "\\begin{equation}\n",
    "\\frac{2\\hat{S}_{\\omega}}{S_{\\omega}}\\sim \\chi^{2}_{2}\n",
    "\\end{equation}\n",
    "\n",
    "For the multitaper estimator, $K\\hat{S}^{(mt)}(\\omega)=\\sum_{k=0}^{K-1}\\hat{S}_{k}(\\omega)$ is a sum or more uncorrelated squared-Gaussians, which just increases the $\\chi^{2}$ DOF\n",
    "\n",
    "\\begin{equation}\n",
    "\\frac{2K\\hat{S}^{(mt)}_{\\omega}}{S_{\\omega}}\\sim \\chi_{2K}^{2}\n",
    "\\end{equation}\n",
    "\n",
    "So the ratio of the PSD estimator to the actual PSD is $chi^{2}$, which means we can calculate a confidence interval for the lowest and highest points that the ratio should reach. That CI can then be manipulated to show the CI for the PSD itself. The 95% CI is\n",
    "\n",
    "\\begin{equation}\n",
    "\\frac{2K\\hat{S}^{(mt)}_{\\omega}}{\\chi^{2}_{0.975,2K}}\\lt S_{\\omega} \\lt \\frac{2K\\hat{S}^{(mt)}_{\\omega}}{\\chi^{2}_{0.025,2K}}\n",
    "\\end{equation}\n",
    "\n",
    "where $\\chi^{2}_{\\alpha,2K}$ denotes the inverse cumulative distribution function at point $\\alpha$. If the direct spectral estimates are weighted with the adaptive weighting scheme, then the effective DOF can be slightly different at each frequency, as a function of weights. In this case\n",
    "\n",
    "\\begin{equation}\n",
    "\\hat{S}^{(mt)}=\\frac{\\sum_{k=0}^{K-1}\\left|d_{k}(\\omega)\\right|^{2}\\hat{S}_{k}(\\omega)}{\\sum_{k=0}^{K-1}\\left|d_{k}(\\omega)\\right|^{2}}\n",
    "\\end{equation}\n",
    "\n",
    "and the effective DOF is $\\nu(\\omega)=2\\sum_{k=0}^{K-1}\\left|d_{k}(\\omega)\\right|^{2}$.\n",
    "\n",
    "For the standard case, the bounds get clearly tighter with additional estimates averaged in"
   ]
  },
  {
   "cell_type": "code",
   "execution_count": null,
   "metadata": {},
   "outputs": [],
   "source": [
    "tk = np.arange(1, 8) * 2\n",
    "print('upper bound scaling:', tk / dists.chi2.ppf(0.025, tk))\n",
    "print('lower bound scaling:', tk / dists.chi2.ppf(0.975, tk))\n",
    "plt.figure()\n",
    "plt.semilogy(tk, tk / dists.chi2.ppf(0.025, tk), label='upper scaling', marker='*', ms=10)\n",
    "plt.semilogy(tk, tk / dists.chi2.ppf(0.975, tk), label='lower scaling', marker='*', ms=10)\n",
    "plt.axhline(1, color='k')\n",
    "plt.legend()\n",
    "plt.xlabel('DOF')"
   ]
  },
  {
   "cell_type": "markdown",
   "metadata": {},
   "source": [
    "### Jackknife variance\n",
    "\n",
    "The \"Jackknife\" estimate of variance follows from a leave-one-out resampling technique called the [jackknife](https://en.wikipedia.org/wiki/Jackknife_resampling). For the purpose of the multitaper estimator of a PSD, the jackknife calculates $K$ versions of eq 3 leaving out one direct spectral estimate at a time. Call these $\\hat{S}_{-k}(\\omega)$, and their average is $\\bar{S}(\\omega)$. The jackknife variance of an estimator is just the scaled sample variance of these $K$ sub-estimators:\n",
    "\n",
    "\\begin{equation}\n",
    "\\operatorname{var}\\left[S^{(mt)}(\\omega)\\right]=\\frac{n-1}{n}\\sum_{k=0}^{K-1}\\left(\\hat{S}_{-k}(\\omega)-\\bar{S}(\\omega)\\right)^{2}\n",
    "\\end{equation}\n",
    "\n",
    "and the standard error (SE) is the square root of this variance. Using the SE, the normal CI is based on Student's t distribution with $K-1$ degrees of freedom.\n",
    "\n",
    "\\begin{equation}\n",
    "\\hat{S}^{(mt)}(\\omega)-(SE)t_{0.975,K-1}\\lt S(\\omega)\\lt\\hat{S}^{(mt)}(\\omega)+(SE)t_{0.975,K-1}\n",
    "\\end{equation}"
   ]
  },
  {
   "cell_type": "code",
   "execution_count": null,
   "metadata": {},
   "outputs": [],
   "source": [
    "x = rando_data[data.chan_map.lookup(3, 0)]\n",
    "# Using the \"psd\" class method\n",
    "mte_1 = mt.MultitaperEstimator(len(x), NW=3.5, fs=data.Fs, low_bias=True)\n",
    "dof_1 = 2 * len(mte_1.dpss)\n",
    "freqs, mt_psd_1, ci_1 = mte_1.compute_psd(x, adaptive_weights=True, ci=True)\n",
    "mte_2 = mt.MultitaperEstimator(len(x), NW=7, fs=data.Fs, low_bias=True)\n",
    "dof_2 = 2 * len(mte_2.dpss)\n",
    "freqs, mt_psd_2, ci_2 = mte_2.compute_psd(x, adaptive_weights=True, ci=True)\n",
    "freqs, mt_psd_3, ci_3 = mt.MultitaperEstimator.psd(x, NW=7, fs=data.Fs, adaptive_weights=True, \n",
    "                                                   ci=True, jackknife=True)\n",
    "f, axs = plt.subplots(2, 1, sharex=True, sharey=True)\n",
    "axs[0].fill_between(freqs, ci_1[0], ci_1[1], color=(0.2, 0.2, 0.2), label='Chi2 {} dof'.format(dof_1))\n",
    "axs[0].fill_between(freqs, ci_2[0], ci_2[1], color=(0.6, 0.6, 0.6), label='Chi2 {} dof'.format(dof_2))\n",
    "axs[1].fill_between(freqs, ci_3[0], ci_3[1], color=(0.6, 0.2, 0.2), label='Jackknife SE')\n",
    "\n",
    "axs[1].set_yscale('log')\n",
    "axs[1].set_xscale('log')\n",
    "# axs.loglog(freqs, mt_psd_3)\n",
    "f_cutoff = freqs.searchsorted(freqs.max() * 0.9)\n",
    "axs[1].set_ylim(bottom=0.25 * ci_1[0][f_cutoff])\n",
    "axs[1].set_xlim(left=0.5)\n",
    "axs[0].legend()\n",
    "axs[1].legend()\n",
    "_ = axs[0].set_title('Relative chi-squared confidence intervals')"
   ]
  },
  {
   "cell_type": "markdown",
   "metadata": {},
   "source": [
    "## Cross spectral density (CSD)\n",
    "\n",
    "For this section, we'll focus on an evoked tone response from this dataset."
   ]
  },
  {
   "cell_type": "code",
   "execution_count": null,
   "metadata": {},
   "outputs": [],
   "source": [
    "fft_pts = 256\n",
    "all_tone_responses = extract_epochs(data.data, data.exp, pre=64, post=fft_pts - 64)\n",
    "all_tone_responses = detrend(all_tone_responses, type='linear', axis=-1)\n",
    "row_tone_responses = np.array([all_tone_responses[data.chan_map.lookup(3, i)] for i in range(8)])\n",
    "tone_ss = np.sum(np.sum(row_tone_responses ** 2, axis=0), axis=1)\n",
    "big_tone = np.argsort(tone_ss)[int(0.9 * len(tone_ss))]"
   ]
  },
  {
   "cell_type": "code",
   "execution_count": null,
   "metadata": {},
   "outputs": [],
   "source": [
    "fig = tile_traces_1ax(all_tone_responses[:, big_tone], \n",
    "                      p=data.chan_map, \n",
    "                      twin=(-64 / data.Fs, (fft_pts - 64) / data.Fs),\n",
    "                      calib_unit='uV', \n",
    "                      linewidths=0.5)"
   ]
  },
  {
   "cell_type": "code",
   "execution_count": null,
   "metadata": {},
   "outputs": [],
   "source": [
    "frames = data.chan_map.embed(all_tone_responses[:, big_tone].T, axis=1)\n",
    "time = (np.arange(frames.shape[0]) - 64) * 1e3 / data.Fs\n",
    "animate_frames(frames, notebook=True, time=time, axis_toggle='off', colorbar=True)"
   ]
  },
  {
   "cell_type": "markdown",
   "metadata": {},
   "source": [
    "This response has, in general, a right-to-left sweep. Earliest onset on the right-side electrodes and then sequential activation moving left. Cross spectral density (CSD) is a tool to look at magnitude and phase of covarying parts of the signal power per frequency. We should expect to see a structured phase lag between electrodes along the row transect.\n",
    "\n",
    "The `MultitaperEstimator.csd` class method returns a \"matrix\" of cross spectral densities for the signals in `x`. Each row i and column j in the matrix has the CSD $C_{ij}(f)$. Like a covariance matrix, this is somewhat redundant with $C_{ij}(f)=C_{ji}^{*}(f)$ (* is complex conjugate). The conjugation just reflects that the phase relationship between two signals is reversed from the perspective of one signal versus the other. The *diagonal* of the matrix is actually equivalent to the normal PSDs of the signals."
   ]
  },
  {
   "cell_type": "code",
   "execution_count": null,
   "metadata": {},
   "outputs": [],
   "source": [
    "# x = np.row_stack([rando_data[data.chan_map.lookup(3, i)] for i in range(8)])\n",
    "x = row_tone_responses[:, big_tone]\n",
    "freqs, csd_matrix = mt.MultitaperEstimator.csd(x, NW=2.5, fs=data.Fs, adaptive_weights=True)"
   ]
  },
  {
   "cell_type": "code",
   "execution_count": null,
   "metadata": {},
   "outputs": [],
   "source": [
    "with sns.husl_palette(n_colors=8):\n",
    "    f, axs = plt.subplots(2, 1, sharex=True, figsize=(8, 8))\n",
    "    axs[0].loglog(freqs, np.abs(csd_matrix[7, :7]).T, alpha=0.5)\n",
    "    axs[0].loglog(freqs, csd_matrix[7, 7].real, color='k', alpha=0.5, ls='--')\n",
    "    # axs[0].set_xlim(left=2, right=15)\n",
    "    labels = ['(3,7) to (3,{})'.format(i) for i in range(7)]\n",
    "    labels.append('(3,7) PSD')\n",
    "    axs[0].legend(labels, ncol=2)\n",
    "    axs[0].set_title('Cross-spectral density (power)')\n",
    "    axs[1].semilogx(freqs, np.unwrap(np.angle(csd_matrix[7, :7])).T, alpha=0.5)\n",
    "    # axs[1].semilogx(freqs, np.angle(csd_matrix[7, :7]).T, alpha=0.5)\n",
    "    axs[1].set_title('Cross-spectral density (phase)')\n",
    "    axs[1].set_ylim(-1 * np.pi, 3 * np.pi)"
   ]
  },
  {
   "cell_type": "markdown",
   "metadata": {},
   "source": [
    "The CSD reflects two things about the response.\n",
    "\n",
    "1. The covarying power between ~10-50 Hz decreases from right to left: i.e. as a function of distance\n",
    "1. The covarying part of the response has a phase lag that increases from right to left.\n",
    "\n",
    "The phase tells us the response happens later on channel (3, 0) than on (3, 7) because the phase difference is positive. This is most clear up to ~40 Hz. After 40 Hz the phase estimates become pretty ragged, partly due to phase wrapping but mostly due to truly random noise. Phase is unwrapped here, but after a certain point the unwrapping is a random walk.\n",
    "\n",
    "### Coherence: normalized CSD\n",
    "If CSD is analogous to the covariance, we can calculate an analogous correlation coefficient called coherence. Coherence is the CSD normalized by the square-root product of the two signals' PSDs. Its magnitude is directly analogous to the correlation coefficient. Its phase is equal to the CSD phase (since the normalization introduces no new phase). For this reason, magnitude squared coherence (MSC) is usually calculated.\n",
    "\n",
    "MSC is a *very* noisy estimator, and it typically needs averaging over several trials."
   ]
  },
  {
   "cell_type": "code",
   "execution_count": null,
   "metadata": {},
   "outputs": [],
   "source": [
    "all_8k = np.where(data.exp.tones == 8000)[0][:10]"
   ]
  },
  {
   "cell_type": "code",
   "execution_count": null,
   "metadata": {},
   "outputs": [],
   "source": [
    "coh_specs = []\n",
    "row_sites = [data.chan_map.lookup(3, i) for i in range(8)]\n",
    "for trial in all_8k:\n",
    "    x = np.array([all_tone_responses[chan, trial] for chan in row_sites])\n",
    "    coh_spec = mt.coherence(x, 2.5, msc=True)\n",
    "    coh_specs.append(coh_spec)\n",
    "coh_spec_avg = np.mean(coh_specs, axis=0)"
   ]
  },
  {
   "cell_type": "code",
   "execution_count": null,
   "metadata": {},
   "outputs": [],
   "source": [
    "with sns.husl_palette(n_colors=8):\n",
    "    f, axs = plt.subplots(1, 1, sharex=True)\n",
    "    axs.semilogx(freqs, np.abs(coh_spec_avg[7, 0:7]).T ** 2, alpha=0.5)\n",
    "    labels = ['(3,7) to (3,{})'.format(i) for i in range(7)]\n",
    "    axs.legend(labels, ncol=2)\n",
    "    axs.set_ylabel('Mag. squared coherence')"
   ]
  },
  {
   "cell_type": "markdown",
   "metadata": {},
   "source": [
    "The jackknife can be used to find the estimator variance and compute a confidence interval. This gives some insight into the reliability of MSC on short windows. The confidence interval improves with higher NW, but the bandwidth resolution goes down. Note that when using a jackknife, you really want more than ~3 samples. For this reason, we'll tune down the eigenvalue threshold from a default 0.99 to 0.9 for DPSS with NW=2.5."
   ]
  },
  {
   "cell_type": "code",
   "execution_count": null,
   "metadata": {},
   "outputs": [],
   "source": [
    "coh_spec_1, ci_1 = mt.coherence(x, 2.5, msc=True, ci=True, low_bias=.9)\n",
    "bw_1 = mt.nw2bw(2.5, x.shape[-1], data.Fs)\n",
    "coh_spec_2, ci_2 = mt.coherence(x, 5, msc=True, ci=True, low_bias=True)\n",
    "bw_2 = mt.nw2bw(6.5, x.shape[-1], data.Fs)"
   ]
  },
  {
   "cell_type": "code",
   "execution_count": null,
   "metadata": {},
   "outputs": [],
   "source": [
    "f, ax = plt.subplots(1, 1)\n",
    "l1 = 'BW={:.1f}'.format(bw_1)\n",
    "l2 = 'BW={:.1f}'.format(bw_2)\n",
    "filled_interval(ax.plot, freqs, coh_spec_1[7, 0], ci_1[:, 7, 0], alpha=0.5, ax=ax, label=l1)\n",
    "filled_interval(ax.plot, freqs, coh_spec_2[7, 0], ci_2[:, 7, 0], alpha=0.5, ax=ax, label=l2)\n",
    "ax.legend()\n",
    "# ax.set_xscale('log')"
   ]
  },
  {
   "cell_type": "markdown",
   "metadata": {},
   "source": [
    "The higher resolution estimator shows a lot more peaks than the lower resolution estimator. But the CIs are pretty big, so hard to say if it's legit."
   ]
  },
  {
   "cell_type": "markdown",
   "metadata": {},
   "source": [
    "## Todo: higher order spectra, spectrograms"
   ]
  }
 ],
 "metadata": {
  "celltoolbar": "Raw Cell Format",
  "kernelspec": {
   "display_name": "Python 3",
   "language": "python",
   "name": "python3"
  },
  "language_info": {
   "codemirror_mode": {
    "name": "ipython",
    "version": 3
   },
   "file_extension": ".py",
   "mimetype": "text/x-python",
   "name": "python",
   "nbconvert_exporter": "python",
   "pygments_lexer": "ipython3",
   "version": "3.7.4"
  }
 },
 "nbformat": 4,
 "nbformat_minor": 2
}
