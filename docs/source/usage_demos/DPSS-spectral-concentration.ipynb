{
 "cells": [
  {
   "cell_type": "markdown",
   "metadata": {},
   "source": [
    "# Spectral concentration thresholds for DPSS (multitaper) windows\n",
    "\n",
    "Multitaper methods usually give smoother results when using a greater number of tapers, but higher order tapers suffer from poor spectral concentration (ratio of energy within versus without the bandpass, parameterized by W).\n",
    "\n",
    "The purpose of this notebook is to find threshold levels of spectral concentration under multiple DPSS parameterizations."
   ]
  },
  {
   "cell_type": "code",
   "execution_count": null,
   "metadata": {},
   "outputs": [],
   "source": [
    "from ecogdata.util import dpss_windows\n",
    "import numpy as np\n",
    "import matplotlib.pyplot as plt\n",
    "from matplotlib.colors import LogNorm, BoundaryNorm\n",
    "from matplotlib.ticker import FuncFormatter\n",
    "from ecoglib.vis.colormaps import nancmap"
   ]
  },
  {
   "cell_type": "markdown",
   "metadata": {},
   "source": [
    "Solve DPSS windows for a number of \"NW\" values, and with varying window sizes."
   ]
  },
  {
   "cell_type": "code",
   "execution_count": null,
   "metadata": {},
   "outputs": [],
   "source": [
    "eigs_by_n = list()\n",
    "# nw_range = np.arange(2.5, 10.1, 0.5)\n",
    "nw_range = np.arange(1.5, 10.1, 0.5)\n",
    "n_range = np.logspace(2, 4, 6).astype('i')\n",
    "for n in n_range:\n",
    "    max_k = int(2 * nw_range.max() + 10)\n",
    "    n_eigs = np.zeros((max_k, len(nw_range)))\n",
    "    for i, nw in enumerate(nw_range):\n",
    "        _, eigs  = dpss_windows(int(n), nw, max_k)\n",
    "        n_eigs[:, i] = np.abs(eigs)\n",
    "    eigs_by_n.append(n_eigs)"
   ]
  },
  {
   "cell_type": "code",
   "execution_count": null,
   "metadata": {},
   "outputs": [],
   "source": [
    "cm_clip = nancmap('Blues_r', overc='gray')\n",
    "cm_clip = nancmap('Set2_r', overc='gray')\n",
    "# diag_colors = plt.cm.autumn_r(np.linspace(0, 1, 13))\n",
    "diag_colors = plt.cm.hsv_r(np.linspace(0, 1, 13))"
   ]
  },
  {
   "cell_type": "code",
   "execution_count": null,
   "metadata": {},
   "outputs": [],
   "source": [
    "bounds = [0.8, 0.9, 0.95, 1 - 1e-2, 1 - 1e-4, 1 - 1e-6, 1 - 1e-8, 1]\n",
    "b_norm = BoundaryNorm(boundaries=bounds, ncolors=256)"
   ]
  },
  {
   "cell_type": "code",
   "execution_count": null,
   "metadata": {},
   "outputs": [],
   "source": [
    "@FuncFormatter\n",
    "def one_minus(x, pos):\n",
    "    return '1-{:.0e}'.format(1 - x)"
   ]
  },
  {
   "cell_type": "markdown",
   "metadata": {},
   "source": [
    "### Map the eigenvalues (concentration) per taper order and per NW parameter"
   ]
  },
  {
   "cell_type": "code",
   "execution_count": null,
   "metadata": {},
   "outputs": [],
   "source": [
    "extent = [nw_range[0] - 0.25, nw_range[-1] + 0.25, 0.5, max_k + 0.5]\n",
    "f, axs = plt.subplots(2, 3, figsize=(12, 8))\n",
    "for i in range(len(n_range)):\n",
    "    ax = axs.ravel()[i]\n",
    "    im = ax.imshow(np.abs(eigs_by_n[i]), \n",
    "                    extent=extent, \n",
    "                    norm=b_norm, \n",
    "                    clim=(0.9, 1 - (1 - max(bounds)) / 10),\n",
    "                    cmap=cm_clip, origin='lower')\n",
    "    ax.axis('auto')\n",
    "    for k in range(0, 13, 2):\n",
    "        ax.plot(nw_range, 2 * nw_range - k, lw=3, color=diag_colors[k], label='2NW - {}'.format(k))\n",
    "    ax.legend(handlelength=0.5, loc='upper left', frameon=True)\n",
    "    ax.set_xlim(extent[:2])\n",
    "    ax.set_ylim(extent[2:])\n",
    "    ax.set_xlabel('time-bandwidth product (NW)')\n",
    "    ax.set_ylabel('taper order')\n",
    "    ax.set_xticks(np.r_[nw_range[0], [x for x in ax.get_xticks() if extent[0] < x < extent[1]]])\n",
    "    ax.set_yticks(np.r_[1, [y for y in ax.get_yticks() if extent[2] < y < extent[3]]])    \n",
    "    cb = f.colorbar(im, ax=ax, extend='both', format=one_minus)\n",
    "    ax.set_title('N = {}'.format(n_range[i]))\n",
    "f.tight_layout()"
   ]
  },
  {
   "cell_type": "markdown",
   "metadata": {},
   "source": [
    "Based on the results, the eigenvalue distributions are not much affected by sequence length. The *rough* formula appears to be that the first $2NW-m$ DPSS modes have spectral concentration greater than about $1-10^{-m}$.\n",
    "\n",
    "An extremely high concentration (loss of 1 part per million) is achieved for $K \\le 2NW - 6$. This is probably usable for NW greater than 5 or so, which could be meaningful for filter projections.\n",
    "\n",
    "Very high concentration (1 part per 10000) is seen for $K\\le 2NW-4$.\n",
    "\n",
    "Good concentration (1 part per 100) is seen for $K\\le 2NW-2$. This could even be useful at a smaller parameterization (e.g. NW=2.5)."
   ]
  },
  {
   "cell_type": "code",
   "execution_count": null,
   "metadata": {},
   "outputs": [],
   "source": []
  }
 ],
 "metadata": {
  "kernelspec": {
   "display_name": "Python 3",
   "language": "python",
   "name": "python3"
  },
  "language_info": {
   "codemirror_mode": {
    "name": "ipython",
    "version": 3
   },
   "file_extension": ".py",
   "mimetype": "text/x-python",
   "name": "python",
   "nbconvert_exporter": "python",
   "pygments_lexer": "ipython3",
   "version": "3.8.2"
  }
 },
 "nbformat": 4,
 "nbformat_minor": 4
}
